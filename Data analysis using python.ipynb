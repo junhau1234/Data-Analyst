{
 "cells": [
  {
   "cell_type": "code",
   "execution_count": 1,
   "metadata": {},
   "outputs": [],
   "source": [
    "import pandas as pd\n",
    "import numpy as np\n",
    "import matplotlib.pyplot as plt\n",
    "import seaborn as sns\n",
    "import datetime as dt"
   ]
  },
  {
   "cell_type": "code",
   "execution_count": 2,
   "metadata": {},
   "outputs": [],
   "source": [
    "df=pd.read_excel('C:/Users/JunHau96/Downloads/dataset.xlsx', sheet_name='Order Data')\n",
    "df2=pd.read_excel('C:/Users/JunHau96/Downloads/dataset.xlsx', sheet_name='Payments Data')"
   ]
  },
  {
   "cell_type": "code",
   "execution_count": 3,
   "metadata": {},
   "outputs": [],
   "source": [
    "#joining two dataset into one\n",
    "df=df.merge(df2,how='left',on='checkoutid')"
   ]
  },
  {
   "cell_type": "code",
   "execution_count": 4,
   "metadata": {},
   "outputs": [
    {
     "name": "stdout",
     "output_type": "stream",
     "text": [
      "      orderid     shopid     userid  checkoutid  total_price_x currency_x  \\\n",
      "0  6505222765  900457733  100223545  1044269436     147.168235        SGD   \n",
      "1  6135926959  586311226  100223545  1211270092      33.169735        SGD   \n",
      "2  5513066971  949679556  100223545  1676514901      24.112195        SGD   \n",
      "3  5123701563  894942828  100223545  1211270092      75.913637        SGD   \n",
      "4  7311653202  389950494  100223545  1880489412      14.455363        SGD   \n",
      "\n",
      "   status created_time      payment_time_x         cancel_time  total_price_y  \\\n",
      "0       2   2019-11-14 2019-12-13 01:32:00                 NaT            NaN   \n",
      "1       2   2019-12-13                 NaT                 NaT            NaN   \n",
      "2       2   2019-12-31 2019-10-03 11:20:00                 NaT      24.112195   \n",
      "3       6   2019-12-13 2019-10-10 16:28:00 2019-12-15 21:38:00            NaN   \n",
      "4       6   2019-12-22                 NaT 2019-12-25 11:44:00      14.455363   \n",
      "\n",
      "  currency_y payment_method      payment_time_y  \n",
      "0        NaN            NaN                 NaT  \n",
      "1        NaN            NaN                 NaT  \n",
      "2        SGD    Credit Card 2019-12-31 17:55:00  \n",
      "3        NaN            NaN                 NaT  \n",
      "4        SGD    Credit Card                 NaT  \n"
     ]
    }
   ],
   "source": [
    "#find the first five row of data\n",
    "print (df.head()) "
   ]
  },
  {
   "cell_type": "code",
   "execution_count": 5,
   "metadata": {},
   "outputs": [
    {
     "name": "stdout",
     "output_type": "stream",
     "text": [
      "orderid                    int64\n",
      "shopid                     int64\n",
      "userid                     int64\n",
      "checkoutid                 int64\n",
      "total_price_x            float64\n",
      "currency_x                object\n",
      "status                     int64\n",
      "created_time      datetime64[ns]\n",
      "payment_time_x    datetime64[ns]\n",
      "cancel_time       datetime64[ns]\n",
      "total_price_y            float64\n",
      "currency_y                object\n",
      "payment_method            object\n",
      "payment_time_y    datetime64[ns]\n",
      "dtype: object\n"
     ]
    }
   ],
   "source": [
    "#find the data type for each column\n",
    "print(df.dtypes)"
   ]
  },
  {
   "cell_type": "code",
   "execution_count": 6,
   "metadata": {},
   "outputs": [
    {
     "name": "stdout",
     "output_type": "stream",
     "text": [
      "dimensions of dataframe1 before cleaning: (7987, 14)\n"
     ]
    }
   ],
   "source": [
    "#finding the dimensions of dataframe bwfore cleaning\n",
    "print(\"dimensions of dataframe1 before cleaning:\",df.shape)"
   ]
  },
  {
   "cell_type": "code",
   "execution_count": 7,
   "metadata": {},
   "outputs": [],
   "source": [
    "#rename the column to ensure consistency\n",
    "df.rename(columns={'orderid':'Order_Id','shopid':'Shop_Id','userid':'User_Id','checkoutid':'Checkout_Id'},inplace=True)"
   ]
  },
  {
   "cell_type": "code",
   "execution_count": 8,
   "metadata": {},
   "outputs": [
    {
     "data": {
      "text/html": [
       "<div>\n",
       "<style scoped>\n",
       "    .dataframe tbody tr th:only-of-type {\n",
       "        vertical-align: middle;\n",
       "    }\n",
       "\n",
       "    .dataframe tbody tr th {\n",
       "        vertical-align: top;\n",
       "    }\n",
       "\n",
       "    .dataframe thead th {\n",
       "        text-align: right;\n",
       "    }\n",
       "</style>\n",
       "<table border=\"1\" class=\"dataframe\">\n",
       "  <thead>\n",
       "    <tr style=\"text-align: right;\">\n",
       "      <th></th>\n",
       "      <th>Order_Id</th>\n",
       "      <th>Shop_Id</th>\n",
       "      <th>User_Id</th>\n",
       "      <th>Checkout_Id</th>\n",
       "      <th>total_price_x</th>\n",
       "      <th>status</th>\n",
       "      <th>total_price_y</th>\n",
       "    </tr>\n",
       "  </thead>\n",
       "  <tbody>\n",
       "    <tr>\n",
       "      <th>count</th>\n",
       "      <td>7.987000e+03</td>\n",
       "      <td>7.987000e+03</td>\n",
       "      <td>7.987000e+03</td>\n",
       "      <td>7.987000e+03</td>\n",
       "      <td>7987.000000</td>\n",
       "      <td>7987.000000</td>\n",
       "      <td>7879.000000</td>\n",
       "    </tr>\n",
       "    <tr>\n",
       "      <th>mean</th>\n",
       "      <td>5.414120e+09</td>\n",
       "      <td>5.451329e+08</td>\n",
       "      <td>5.507473e+08</td>\n",
       "      <td>1.487027e+09</td>\n",
       "      <td>75.497665</td>\n",
       "      <td>8.638663</td>\n",
       "      <td>75.599603</td>\n",
       "    </tr>\n",
       "    <tr>\n",
       "      <th>std</th>\n",
       "      <td>2.637263e+09</td>\n",
       "      <td>2.627234e+08</td>\n",
       "      <td>2.595093e+08</td>\n",
       "      <td>3.030778e+08</td>\n",
       "      <td>43.477037</td>\n",
       "      <td>3.882883</td>\n",
       "      <td>43.512430</td>\n",
       "    </tr>\n",
       "    <tr>\n",
       "      <th>min</th>\n",
       "      <td>1.170737e+08</td>\n",
       "      <td>1.002647e+08</td>\n",
       "      <td>1.002235e+08</td>\n",
       "      <td>1.230167e+08</td>\n",
       "      <td>1.003668</td>\n",
       "      <td>2.000000</td>\n",
       "      <td>1.003668</td>\n",
       "    </tr>\n",
       "    <tr>\n",
       "      <th>25%</th>\n",
       "      <td>3.120074e+09</td>\n",
       "      <td>3.148732e+08</td>\n",
       "      <td>3.280093e+08</td>\n",
       "      <td>1.235570e+09</td>\n",
       "      <td>37.683694</td>\n",
       "      <td>6.000000</td>\n",
       "      <td>37.705319</td>\n",
       "    </tr>\n",
       "    <tr>\n",
       "      <th>50%</th>\n",
       "      <td>5.380835e+09</td>\n",
       "      <td>5.427693e+08</td>\n",
       "      <td>5.465961e+08</td>\n",
       "      <td>1.491323e+09</td>\n",
       "      <td>75.511121</td>\n",
       "      <td>11.000000</td>\n",
       "      <td>75.831948</td>\n",
       "    </tr>\n",
       "    <tr>\n",
       "      <th>75%</th>\n",
       "      <td>7.703233e+09</td>\n",
       "      <td>7.719504e+08</td>\n",
       "      <td>7.735108e+08</td>\n",
       "      <td>1.742042e+09</td>\n",
       "      <td>113.178825</td>\n",
       "      <td>12.000000</td>\n",
       "      <td>113.323718</td>\n",
       "    </tr>\n",
       "    <tr>\n",
       "      <th>max</th>\n",
       "      <td>9.999839e+09</td>\n",
       "      <td>9.999270e+08</td>\n",
       "      <td>9.984749e+08</td>\n",
       "      <td>1.999521e+09</td>\n",
       "      <td>150.990501</td>\n",
       "      <td>13.000000</td>\n",
       "      <td>150.990501</td>\n",
       "    </tr>\n",
       "  </tbody>\n",
       "</table>\n",
       "</div>"
      ],
      "text/plain": [
       "           Order_Id       Shop_Id       User_Id   Checkout_Id  total_price_x  \\\n",
       "count  7.987000e+03  7.987000e+03  7.987000e+03  7.987000e+03    7987.000000   \n",
       "mean   5.414120e+09  5.451329e+08  5.507473e+08  1.487027e+09      75.497665   \n",
       "std    2.637263e+09  2.627234e+08  2.595093e+08  3.030778e+08      43.477037   \n",
       "min    1.170737e+08  1.002647e+08  1.002235e+08  1.230167e+08       1.003668   \n",
       "25%    3.120074e+09  3.148732e+08  3.280093e+08  1.235570e+09      37.683694   \n",
       "50%    5.380835e+09  5.427693e+08  5.465961e+08  1.491323e+09      75.511121   \n",
       "75%    7.703233e+09  7.719504e+08  7.735108e+08  1.742042e+09     113.178825   \n",
       "max    9.999839e+09  9.999270e+08  9.984749e+08  1.999521e+09     150.990501   \n",
       "\n",
       "            status  total_price_y  \n",
       "count  7987.000000    7879.000000  \n",
       "mean      8.638663      75.599603  \n",
       "std       3.882883      43.512430  \n",
       "min       2.000000       1.003668  \n",
       "25%       6.000000      37.705319  \n",
       "50%      11.000000      75.831948  \n",
       "75%      12.000000     113.323718  \n",
       "max      13.000000     150.990501  "
      ]
     },
     "execution_count": 8,
     "metadata": {},
     "output_type": "execute_result"
    }
   ],
   "source": [
    "df.describe()"
   ]
  },
  {
   "cell_type": "code",
   "execution_count": 9,
   "metadata": {},
   "outputs": [
    {
     "data": {
      "text/plain": [
       "Order_Id          False\n",
       "Shop_Id           False\n",
       "User_Id           False\n",
       "Checkout_Id       False\n",
       "total_price_x     False\n",
       "currency_x        False\n",
       "status            False\n",
       "created_time      False\n",
       "payment_time_x     True\n",
       "cancel_time        True\n",
       "total_price_y      True\n",
       "currency_y         True\n",
       "payment_method     True\n",
       "payment_time_y     True\n",
       "dtype: bool"
      ]
     },
     "execution_count": 9,
     "metadata": {},
     "output_type": "execute_result"
    }
   ],
   "source": [
    "#check non available value\n",
    "nan_value=df.isna()\n",
    "nan_columns=nan_value.any()\n",
    "nan_columns"
   ]
  },
  {
   "cell_type": "code",
   "execution_count": 10,
   "metadata": {},
   "outputs": [
    {
     "data": {
      "text/plain": [
       "Order_Id             0\n",
       "Shop_Id              0\n",
       "User_Id              0\n",
       "Checkout_Id          0\n",
       "total_price_x        0\n",
       "currency_x           0\n",
       "status               0\n",
       "created_time         0\n",
       "payment_time_x    1690\n",
       "cancel_time       5359\n",
       "total_price_y      108\n",
       "currency_y         108\n",
       "payment_method     108\n",
       "payment_time_y    1777\n",
       "dtype: int64"
      ]
     },
     "execution_count": 10,
     "metadata": {},
     "output_type": "execute_result"
    }
   ],
   "source": [
    "#find total non available value in each column\n",
    "df.isnull().sum()"
   ]
  },
  {
   "cell_type": "code",
   "execution_count": 11,
   "metadata": {},
   "outputs": [
    {
     "data": {
      "text/html": [
       "<div>\n",
       "<style scoped>\n",
       "    .dataframe tbody tr th:only-of-type {\n",
       "        vertical-align: middle;\n",
       "    }\n",
       "\n",
       "    .dataframe tbody tr th {\n",
       "        vertical-align: top;\n",
       "    }\n",
       "\n",
       "    .dataframe thead th {\n",
       "        text-align: right;\n",
       "    }\n",
       "</style>\n",
       "<table border=\"1\" class=\"dataframe\">\n",
       "  <thead>\n",
       "    <tr style=\"text-align: right;\">\n",
       "      <th></th>\n",
       "      <th>Order_Id</th>\n",
       "      <th>Shop_Id</th>\n",
       "      <th>User_Id</th>\n",
       "      <th>Checkout_Id</th>\n",
       "      <th>total_price_x</th>\n",
       "      <th>currency_x</th>\n",
       "      <th>status</th>\n",
       "      <th>created_time</th>\n",
       "      <th>payment_time_x</th>\n",
       "      <th>cancel_time</th>\n",
       "      <th>total_price_y</th>\n",
       "      <th>currency_y</th>\n",
       "      <th>payment_method</th>\n",
       "      <th>payment_time_y</th>\n",
       "    </tr>\n",
       "  </thead>\n",
       "  <tbody>\n",
       "    <tr>\n",
       "      <th>5</th>\n",
       "      <td>941194416</td>\n",
       "      <td>111111111</td>\n",
       "      <td>100223545</td>\n",
       "      <td>868753121</td>\n",
       "      <td>2.388681</td>\n",
       "      <td>SGD</td>\n",
       "      <td>8</td>\n",
       "      <td>2019-10-22</td>\n",
       "      <td>2019-11-29 05:17:00</td>\n",
       "      <td>2019-10-31</td>\n",
       "      <td>2.388681</td>\n",
       "      <td>SGD</td>\n",
       "      <td>Credit Card</td>\n",
       "      <td>2019-10-23 09:51:00</td>\n",
       "    </tr>\n",
       "    <tr>\n",
       "      <th>6</th>\n",
       "      <td>275459056</td>\n",
       "      <td>111111111</td>\n",
       "      <td>100223545</td>\n",
       "      <td>296034822</td>\n",
       "      <td>1.382727</td>\n",
       "      <td>SGD</td>\n",
       "      <td>8</td>\n",
       "      <td>2019-10-29</td>\n",
       "      <td>2019-12-11 16:02:00</td>\n",
       "      <td>2019-10-31</td>\n",
       "      <td>1.382727</td>\n",
       "      <td>SGD</td>\n",
       "      <td>Credit Card</td>\n",
       "      <td>2019-10-30 01:53:00</td>\n",
       "    </tr>\n",
       "    <tr>\n",
       "      <th>7</th>\n",
       "      <td>500491965</td>\n",
       "      <td>111111111</td>\n",
       "      <td>100223545</td>\n",
       "      <td>472950463</td>\n",
       "      <td>2.728841</td>\n",
       "      <td>SGD</td>\n",
       "      <td>8</td>\n",
       "      <td>2019-11-01</td>\n",
       "      <td>2019-11-29 02:19:00</td>\n",
       "      <td>2019-11-30</td>\n",
       "      <td>2.728841</td>\n",
       "      <td>SGD</td>\n",
       "      <td>Credit Card</td>\n",
       "      <td>2019-11-01 11:25:00</td>\n",
       "    </tr>\n",
       "    <tr>\n",
       "      <th>8</th>\n",
       "      <td>521741665</td>\n",
       "      <td>111111111</td>\n",
       "      <td>100223545</td>\n",
       "      <td>975734757</td>\n",
       "      <td>2.342173</td>\n",
       "      <td>SGD</td>\n",
       "      <td>8</td>\n",
       "      <td>2019-11-11</td>\n",
       "      <td>2019-10-04 23:39:00</td>\n",
       "      <td>2019-11-30</td>\n",
       "      <td>2.342173</td>\n",
       "      <td>SGD</td>\n",
       "      <td>ShopeePay</td>\n",
       "      <td>2019-11-12 08:28:00</td>\n",
       "    </tr>\n",
       "    <tr>\n",
       "      <th>10</th>\n",
       "      <td>776508360</td>\n",
       "      <td>111111111</td>\n",
       "      <td>100223545</td>\n",
       "      <td>657807529</td>\n",
       "      <td>3.958844</td>\n",
       "      <td>SGD</td>\n",
       "      <td>8</td>\n",
       "      <td>2019-11-18</td>\n",
       "      <td>2019-11-15 11:28:00</td>\n",
       "      <td>2019-11-30</td>\n",
       "      <td>3.958844</td>\n",
       "      <td>SGD</td>\n",
       "      <td>Credit Card</td>\n",
       "      <td>2019-11-18 21:51:00</td>\n",
       "    </tr>\n",
       "  </tbody>\n",
       "</table>\n",
       "</div>"
      ],
      "text/plain": [
       "     Order_Id    Shop_Id    User_Id  Checkout_Id  total_price_x currency_x  \\\n",
       "5   941194416  111111111  100223545    868753121       2.388681        SGD   \n",
       "6   275459056  111111111  100223545    296034822       1.382727        SGD   \n",
       "7   500491965  111111111  100223545    472950463       2.728841        SGD   \n",
       "8   521741665  111111111  100223545    975734757       2.342173        SGD   \n",
       "10  776508360  111111111  100223545    657807529       3.958844        SGD   \n",
       "\n",
       "    status created_time      payment_time_x cancel_time  total_price_y  \\\n",
       "5        8   2019-10-22 2019-11-29 05:17:00  2019-10-31       2.388681   \n",
       "6        8   2019-10-29 2019-12-11 16:02:00  2019-10-31       1.382727   \n",
       "7        8   2019-11-01 2019-11-29 02:19:00  2019-11-30       2.728841   \n",
       "8        8   2019-11-11 2019-10-04 23:39:00  2019-11-30       2.342173   \n",
       "10       8   2019-11-18 2019-11-15 11:28:00  2019-11-30       3.958844   \n",
       "\n",
       "   currency_y payment_method      payment_time_y  \n",
       "5         SGD    Credit Card 2019-10-23 09:51:00  \n",
       "6         SGD    Credit Card 2019-10-30 01:53:00  \n",
       "7         SGD    Credit Card 2019-11-01 11:25:00  \n",
       "8         SGD      ShopeePay 2019-11-12 08:28:00  \n",
       "10        SGD    Credit Card 2019-11-18 21:51:00  "
      ]
     },
     "execution_count": 11,
     "metadata": {},
     "output_type": "execute_result"
    }
   ],
   "source": [
    "#finding the order that sold by certain store\n",
    "df.query('Shop_Id==111111111').head()"
   ]
  },
  {
   "cell_type": "code",
   "execution_count": 12,
   "metadata": {},
   "outputs": [
    {
     "data": {
      "text/plain": [
       "602999.853643947"
      ]
     },
     "execution_count": 12,
     "metadata": {},
     "output_type": "execute_result"
    }
   ],
   "source": [
    "#finding total value price sold\n",
    "df.total_price_x.sum()"
   ]
  },
  {
   "cell_type": "code",
   "execution_count": 13,
   "metadata": {},
   "outputs": [
    {
     "name": "stdout",
     "output_type": "stream",
     "text": [
      "Shop_Id\n",
      "397966211    1676.815263\n",
      "843003698     861.956103\n",
      "964944806     624.796817\n",
      "726396934     443.622905\n",
      "604385234     423.660768\n",
      "154396809     394.311655\n",
      "882468634     378.087954\n",
      "631672637     318.696609\n",
      "788847405     314.062710\n",
      "123030534     269.484271\n",
      "Name: total_price_x, dtype: float64\n"
     ]
    }
   ],
   "source": [
    "#finding the top 10 seller\n",
    "top_10_seller=df.groupby('Shop_Id')['total_price_x'].sum().sort_values(ascending=False).head(10)\n",
    "print (top_10_seller)"
   ]
  },
  {
   "cell_type": "code",
   "execution_count": 14,
   "metadata": {},
   "outputs": [
    {
     "data": {
      "text/plain": [
       "<matplotlib.axes._subplots.AxesSubplot at 0x228496b8408>"
      ]
     },
     "execution_count": 14,
     "metadata": {},
     "output_type": "execute_result"
    },
    {
     "data": {
      "image/png": "[encoded data removed]",
      "text/plain": [
       "<Figure size 864x432 with 1 Axes>"
      ]
     },
     "metadata": {
      "needs_background": "light"
     },
     "output_type": "display_data"
    }
   ],
   "source": [
    "#Plot top 10 seller\n",
    "plt.figure(figsize=(12,6))\n",
    "plt.title('Top 10 seller amount sold ')\n",
    "sns.barplot(x=top_10_seller.index,y=top_10_seller,palette='Set2')"
   ]
  },
  {
   "cell_type": "code",
   "execution_count": 15,
   "metadata": {},
   "outputs": [
    {
     "data": {
      "text/plain": [
       "array([nan, 'Credit Card', 'ShopeePay', 'Bank Transfer'], dtype=object)"
      ]
     },
     "execution_count": 15,
     "metadata": {},
     "output_type": "execute_result"
    }
   ],
   "source": [
    "#finding payment channel\n",
    "payment_channel=df.payment_method.unique()\n",
    "payment_channel"
   ]
  },
  {
   "cell_type": "code",
   "execution_count": 16,
   "metadata": {},
   "outputs": [
    {
     "data": {
      "text/plain": [
       "Credit Card      6343\n",
       "Bank Transfer    1149\n",
       "ShopeePay         387\n",
       "Name: payment_method, dtype: int64"
      ]
     },
     "execution_count": 16,
     "metadata": {},
     "output_type": "execute_result"
    }
   ],
   "source": [
    "payment_channel_count=df.payment_method.value_counts()\n",
    "payment_channel_count"
   ]
  },
  {
   "cell_type": "code",
   "execution_count": 17,
   "metadata": {
    "scrolled": true
   },
   "outputs": [
    {
     "data": {
      "text/plain": [
       "<matplotlib.legend.Legend at 0x228495d6e08>"
      ]
     },
     "execution_count": 17,
     "metadata": {},
     "output_type": "execute_result"
    },
    {
     "data": {
      "image/png": "[encoded data removed]",
      "text/plain": [
       "<Figure size 720x720 with 1 Axes>"
      ]
     },
     "metadata": {},
     "output_type": "display_data"
    }
   ],
   "source": [
    "plt.figure(figsize=(10,10))\n",
    "plt.title('Distribution of cancellation rate on payment channel')\n",
    "plt.pie(payment_channel_count,labels=payment_channel_count.index,autopct='%1.1f%%',startangle=300,shadow=True)\n",
    "plt.legend()"
   ]
  },
  {
   "cell_type": "code",
   "execution_count": 18,
   "metadata": {
    "scrolled": false
   },
   "outputs": [
    {
     "data": {
      "text/html": [
       "<div>\n",
       "<style scoped>\n",
       "    .dataframe tbody tr th:only-of-type {\n",
       "        vertical-align: middle;\n",
       "    }\n",
       "\n",
       "    .dataframe tbody tr th {\n",
       "        vertical-align: top;\n",
       "    }\n",
       "\n",
       "    .dataframe thead th {\n",
       "        text-align: right;\n",
       "    }\n",
       "</style>\n",
       "<table border=\"1\" class=\"dataframe\">\n",
       "  <thead>\n",
       "    <tr style=\"text-align: right;\">\n",
       "      <th></th>\n",
       "      <th>Shop_Id</th>\n",
       "      <th>month</th>\n",
       "      <th>Order_Cancel</th>\n",
       "    </tr>\n",
       "  </thead>\n",
       "  <tbody>\n",
       "    <tr>\n",
       "      <th>32</th>\n",
       "      <td>111111111</td>\n",
       "      <td>11</td>\n",
       "      <td>29</td>\n",
       "    </tr>\n",
       "    <tr>\n",
       "      <th>33</th>\n",
       "      <td>111111111</td>\n",
       "      <td>12</td>\n",
       "      <td>25</td>\n",
       "    </tr>\n",
       "    <tr>\n",
       "      <th>31</th>\n",
       "      <td>111111111</td>\n",
       "      <td>10</td>\n",
       "      <td>19</td>\n",
       "    </tr>\n",
       "    <tr>\n",
       "      <th>829</th>\n",
       "      <td>397966211</td>\n",
       "      <td>12</td>\n",
       "      <td>5</td>\n",
       "    </tr>\n",
       "    <tr>\n",
       "      <th>2074</th>\n",
       "      <td>843003698</td>\n",
       "      <td>10</td>\n",
       "      <td>3</td>\n",
       "    </tr>\n",
       "    <tr>\n",
       "      <th>2075</th>\n",
       "      <td>843003698</td>\n",
       "      <td>11</td>\n",
       "      <td>3</td>\n",
       "    </tr>\n",
       "    <tr>\n",
       "      <th>199</th>\n",
       "      <td>173105930</td>\n",
       "      <td>12</td>\n",
       "      <td>2</td>\n",
       "    </tr>\n",
       "    <tr>\n",
       "      <th>1892</th>\n",
       "      <td>771950408</td>\n",
       "      <td>12</td>\n",
       "      <td>2</td>\n",
       "    </tr>\n",
       "    <tr>\n",
       "      <th>2094</th>\n",
       "      <td>847634638</td>\n",
       "      <td>12</td>\n",
       "      <td>2</td>\n",
       "    </tr>\n",
       "    <tr>\n",
       "      <th>828</th>\n",
       "      <td>397966211</td>\n",
       "      <td>10</td>\n",
       "      <td>2</td>\n",
       "    </tr>\n",
       "  </tbody>\n",
       "</table>\n",
       "</div>"
      ],
      "text/plain": [
       "        Shop_Id  month  Order_Cancel\n",
       "32    111111111     11            29\n",
       "33    111111111     12            25\n",
       "31    111111111     10            19\n",
       "829   397966211     12             5\n",
       "2074  843003698     10             3\n",
       "2075  843003698     11             3\n",
       "199   173105930     12             2\n",
       "1892  771950408     12             2\n",
       "2094  847634638     12             2\n",
       "828   397966211     10             2"
      ]
     },
     "execution_count": 18,
     "metadata": {},
     "output_type": "execute_result"
    }
   ],
   "source": [
    "#finding the distribution of order cancellation in each month by each seller'\n",
    "#k=0\n",
    "#df['created_time']=pd.to_datetime(df.created_time)\n",
    "#for k in range(len(df)):\n",
    "  #try:\n",
    "      #df['created_time']=pd.to_datetime(df.created_time,format='%m/%d/%Y')\n",
    "  #except:\n",
    "      #df['created_time']=pd.to_datetime(df.created_time,format='%d/%m/%Y')\n",
    "#df['created_time']=df.created_time.dt.strftime('%d/%m/%Y')\n",
    "#df['date'],df['month'],df['year']=df['created_time'].split('/')\n",
    "df['month'] = pd.DatetimeIndex(df['created_time']).month\n",
    "df_order_cancel=df[((df['status']==6) | (df['status']==7) |(df['status']==8) |(df['status']==9) | (df['status']==10))]\n",
    "df_order_cancel.groupby(['Shop_Id','month'])['status'].count().reset_index(name='Order_Cancel').sort_values(ascending=False,by='Order_Cancel').head(10)"
   ]
  },
  {
   "cell_type": "code",
   "execution_count": 19,
   "metadata": {},
   "outputs": [
    {
     "name": "stdout",
     "output_type": "stream",
     "text": [
      "Number of order been cancelled are 2628\n",
      "Total Value of order cancel is 194945.17158094875\n"
     ]
    }
   ],
   "source": [
    "#finding total amount of order being cancel\n",
    "cancel=[6,7,8,9,10]\n",
    "index=df.apply(lambda x:True if x['status'] in cancel else False,axis=1) #get a boolean series which representing which row statisfy the criteria.\n",
    "count_cancel=len(df[index==True].index)# find the total number of order been cancel\n",
    "total_cancel=df.loc[(df['status']==6) | (df['status']==7) |(df['status']==8) |(df['status']==9) | (df['status']==10),'total_price_x'].sum() # finding the total value of cancelation\n",
    "print('Number of order been cancelled are',count_cancel)\n",
    "print('Total Value of order cancel is',total_cancel)"
   ]
  },
  {
   "cell_type": "code",
   "execution_count": 20,
   "metadata": {},
   "outputs": [
    {
     "name": "stdout",
     "output_type": "stream",
     "text": [
      "Percentage of orders cancelled before payment 21.32214849129836 %\n",
      "Percentage of orders cancelled after payment 11.581319644422186 %\n"
     ]
    }
   ],
   "source": [
    "#finding percentage of cancelled before and after payment\n",
    "cancel_before_payment=6\n",
    "cancel_after_payment=[7,8,9,10]\n",
    "series_obj1=df.apply(lambda x:True if x['status'] == cancel_before_payment else False,axis=1)\n",
    "series_obj2=df.apply(lambda x:True if x['status'] in cancel_after_payment else False,axis=1)\n",
    "count_cancel_before=len(df[series_obj1==True].index) #count the number of order cancel before payment\n",
    "count_cancel_after=len(df[series_obj2==True].index)  #count the number of order cancel after payment\n",
    "print('Percentage of orders cancelled before payment',100*count_cancel_before/len(df),'%')\n",
    "print('Percentage of orders cancelled after payment',100*count_cancel_after/len(df),'%')\n"
   ]
  },
  {
   "cell_type": "code",
   "execution_count": 21,
   "metadata": {},
   "outputs": [
    {
     "name": "stdout",
     "output_type": "stream",
     "text": [
      "Cancellation rate for each payment channel are payment_method\n",
      "Bank Transfer     28713.840615\n",
      "Credit Card      152949.948277\n",
      "ShopeePay          9938.240562\n",
      "Name: total_price_x, dtype: float64\n"
     ]
    }
   ],
   "source": [
    "#finding cancellation rate for each payment channel\n",
    "result_df1= df.loc[(df['status']==6) | (df['status']==7) |(df['status']==8) |(df['status']==9) | (df['status']==10),:]\n",
    "cancellation_rate=result_df1.groupby(['payment_method'])['total_price_x'].sum()\n",
    "print('Cancellation rate for each payment channel are',cancellation_rate)"
   ]
  },
  {
   "cell_type": "code",
   "execution_count": 22,
   "metadata": {
    "scrolled": true
   },
   "outputs": [
    {
     "name": "stdout",
     "output_type": "stream",
     "text": [
      "Total order reorder from the same shop after cancellation are 41\n"
     ]
    }
   ],
   "source": [
    "#finding whether do the buyer purchase from the same shop after cancellation\n",
    "result_df2=df[~df.isin(result_df1)] \n",
    "User=result_df1['User_Id']\n",
    "Shop=result_df1['Shop_Id']\n",
    "order_reordered=len(result_df2.loc[(result_df2 ['User_Id'].isin(User)) & (result_df2 ['Shop_Id'].isin(Shop))])\n",
    "print('Total order reorder from the same shop after cancellation are',order_reordered)"
   ]
  },
  {
   "cell_type": "code",
   "execution_count": 23,
   "metadata": {},
   "outputs": [
    {
     "data": {
      "text/plain": [
       "<matplotlib.axes._subplots.AxesSubplot at 0x228495e5108>"
      ]
     },
     "execution_count": 23,
     "metadata": {},
     "output_type": "execute_result"
    },
    {
     "data": {
      "image/png": "[encoded data removed]",
      "text/plain": [
       "<Figure size 720x720 with 1 Axes>"
      ]
     },
     "metadata": {},
     "output_type": "display_data"
    }
   ],
   "source": [
    "sns.set(style='darkgrid')\n",
    "plt.figure(figsize=(10,10))\n",
    "plt.title('Distribution of cancel rate on each month ')\n",
    "sns.countplot(x='month',data=df_order_cancel,palette='Spectral')\n"
   ]
  },
  {
   "cell_type": "code",
   "execution_count": 24,
   "metadata": {},
   "outputs": [
    {
     "data": {
      "text/html": [
       "<div>\n",
       "<style scoped>\n",
       "    .dataframe tbody tr th:only-of-type {\n",
       "        vertical-align: middle;\n",
       "    }\n",
       "\n",
       "    .dataframe tbody tr th {\n",
       "        vertical-align: top;\n",
       "    }\n",
       "\n",
       "    .dataframe thead th {\n",
       "        text-align: right;\n",
       "    }\n",
       "</style>\n",
       "<table border=\"1\" class=\"dataframe\">\n",
       "  <thead>\n",
       "    <tr style=\"text-align: right;\">\n",
       "      <th></th>\n",
       "      <th>User_Id</th>\n",
       "      <th>total purchase amount</th>\n",
       "    </tr>\n",
       "  </thead>\n",
       "  <tbody>\n",
       "    <tr>\n",
       "      <th>2162</th>\n",
       "      <td>477474790</td>\n",
       "      <td>1136.266957</td>\n",
       "    </tr>\n",
       "    <tr>\n",
       "      <th>683</th>\n",
       "      <td>224850852</td>\n",
       "      <td>1135.172927</td>\n",
       "    </tr>\n",
       "    <tr>\n",
       "      <th>2176</th>\n",
       "      <td>481323800</td>\n",
       "      <td>1124.340327</td>\n",
       "    </tr>\n",
       "    <tr>\n",
       "      <th>0</th>\n",
       "      <td>100223545</td>\n",
       "      <td>1097.074907</td>\n",
       "    </tr>\n",
       "    <tr>\n",
       "      <th>1330</th>\n",
       "      <td>335051703</td>\n",
       "      <td>1066.848723</td>\n",
       "    </tr>\n",
       "  </tbody>\n",
       "</table>\n",
       "</div>"
      ],
      "text/plain": [
       "        User_Id  total purchase amount\n",
       "2162  477474790            1136.266957\n",
       "683   224850852            1135.172927\n",
       "2176  481323800            1124.340327\n",
       "0     100223545            1097.074907\n",
       "1330  335051703            1066.848723"
      ]
     },
     "execution_count": 24,
     "metadata": {},
     "output_type": "execute_result"
    }
   ],
   "source": [
    "#finding top 5 buyer over the months\n",
    "df_order_sucess=df[~((df['status']==6) | (df['status']==7) |(df['status']==8) |(df['status']==9) | (df['status']==10))]\n",
    "df_order_sucess.groupby('User_Id')['total_price_x'].sum().reset_index(name='total purchase amount').sort_values(ascending=False,by='total purchase amount').head(5)"
   ]
  },
  {
   "cell_type": "code",
   "execution_count": null,
   "metadata": {},
   "outputs": [],
   "source": []
  }
 ],
 "metadata": {
  "kernelspec": {
   "display_name": "Python 3",
   "language": "python",
   "name": "python3"
  },
  "language_info": {
   "codemirror_mode": {
    "name": "ipython",
    "version": 3
   },
   "file_extension": ".py",
   "mimetype": "text/x-python",
   "name": "python",
   "nbconvert_exporter": "python",
   "pygments_lexer": "ipython3",
   "version": "3.7.6"
  }
 },
 "nbformat": 4,
 "nbformat_minor": 4
}
